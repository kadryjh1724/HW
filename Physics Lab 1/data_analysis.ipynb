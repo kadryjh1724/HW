{
 "cells": [
  {
   "cell_type": "code",
   "execution_count": 16,
   "metadata": {},
   "outputs": [],
   "source": [
    "import numpy as np\n",
    "import pandas as pd\n",
    "import matplotlib.pyplot as plt\n",
    "from pylab import *\n",
    "from scipy.optimize import curve_fit as cf\n",
    "\n",
    "# [1] Import data\n",
    "\n",
    "data_00 = pd.read_csv('data_00.csv', sep=',')\n",
    "data_01 = pd.read_csv('data_01.csv', sep=',')\n",
    "data_02 = pd.read_csv('data_02.csv', sep=',')\n",
    "data_03 = pd.read_csv('data_03.csv', sep=',')\n",
    "data_04 = pd.read_csv('data_04.csv', sep=',')\n",
    "data_05 = pd.read_csv('data_05.csv', sep=',')\n",
    "data_06 = pd.read_csv('data_06.csv', sep=',')\n",
    "\n",
    "\n",
    "# [2] Column separation, Removal of NaN in csv\n",
    "\n",
    "exp01 = (data_00[[\"t1\",\"x1\"]].dropna(how=\"any\")).values\n",
    "exp02 = (data_00[[\"t2\",\"x2\"]].dropna(how=\"any\")).values\n",
    "exp03 = (data_00[[\"t3\",\"x3\"]].dropna(how=\"any\")).values\n",
    "\n",
    "exp11 = (data_01[[\"t1\",\"x1\"]].dropna(how=\"any\")).values\n",
    "exp12 = (data_01[[\"t2\",\"x2\"]].dropna(how=\"any\")).values\n",
    "exp13 = (data_01[[\"t3\",\"x3\"]].dropna(how=\"any\")).values\n",
    "\n",
    "exp21 = (data_02[[\"t1\",\"x1\"]].dropna(how=\"any\")).values\n",
    "exp22 = (data_02[[\"t2\",\"x2\"]].dropna(how=\"any\")).values\n",
    "exp23 = (data_02[[\"t3\",\"x3\"]].dropna(how=\"any\")).values\n",
    "\n",
    "exp31 = (data_03[[\"t1\",\"x1\"]].dropna(how=\"any\")).values\n",
    "exp32 = (data_03[[\"t2\",\"x2\"]].dropna(how=\"any\")).values\n",
    "\n",
    "exp41 = (data_04[[\"t1\",\"x1\"]].dropna(how=\"any\")).values\n",
    "exp42 = (data_04[[\"t2\",\"x2\"]].dropna(how=\"any\")).values\n",
    "exp43 = (data_04[[\"t3\",\"x3\"]].dropna(how=\"any\")).values\n",
    "\n",
    "exp51 = (data_05[[\"t1\",\"x1\"]].dropna(how=\"any\")).values\n",
    "exp52 = (data_05[[\"t2\",\"x2\"]].dropna(how=\"any\")).values\n",
    "exp53 = (data_05[[\"t3\",\"x3\"]].dropna(how=\"any\")).values\n",
    "\n",
    "exp61 = (data_06[[\"t1\",\"x1\"]].dropna(how=\"any\")).values\n",
    "exp62 = (data_06[[\"t2\",\"x2\"]].dropna(how=\"any\")).values\n",
    "exp63 = (data_06[[\"t3\",\"x3\"]].dropna(how=\"any\")).values"
   ]
  },
  {
   "cell_type": "code",
   "execution_count": 24,
   "metadata": {},
   "outputs": [
    {
     "name": "stdout",
     "output_type": "stream",
     "text": [
      "I values for Expt. 0 :  0.03670198421968979   0.03230426863129101   0.03472668153504786 \n",
      "\n",
      "\n",
      "I values for Expt. 1 :  0.04200324806948798   0.03441233257586112   0.03727367649508144 \n",
      "\n",
      "\n",
      "I values for Expt. 2 :  0.05290848199714219   0.04765314608114083   0.058491386078068336 \n",
      "\n",
      "\n",
      "I values for Expt. 3 :  0.05639641623300817   0.04969709909551313 \n",
      "\n",
      "\n",
      "I values for Expt. 4 :  0.0694220465170169   0.06636312251436498   0.06033236735661134 \n",
      "\n",
      "\n",
      "I values for Expt. 5 :  0.04745184660660841   0.048062944397363375   0.0693409104123757 \n",
      "\n",
      "\n",
      "I values for Expt. 6 :  0.057016543894233405   0.05429574370505729   0.04058268776565656 \n",
      "\n",
      "\n"
     ]
    }
   ],
   "source": [
    "def fn(x,a,b):\n",
    "    return b - 0.15*a*x**2\n",
    "\n",
    "popt01, pcov01 = cf(fn,exp01[:,0],exp01[:,1])\n",
    "popt02, pcov02 = cf(fn,exp02[:,0],exp02[:,1])\n",
    "popt03, pcov03 = cf(fn,exp03[:,0],exp03[:,1])\n",
    "\n",
    "popt11, pcov11 = cf(fn,exp11[:,0],exp11[:,1])\n",
    "popt12, pcov12 = cf(fn,exp12[:,0],exp12[:,1])\n",
    "popt13, pcov13 = cf(fn,exp13[:,0],exp13[:,1])\n",
    "\n",
    "popt21, pcov21 = cf(fn,exp21[:,0],exp21[:,1])\n",
    "popt22, pcov22 = cf(fn,exp22[:,0],exp22[:,1])\n",
    "popt23, pcov23 = cf(fn,exp23[:,0],exp23[:,1])\n",
    "\n",
    "popt31, pcov31 = cf(fn,exp31[:,0],exp31[:,1])\n",
    "popt32, pcov32 = cf(fn,exp32[:,0],exp32[:,1])\n",
    "\n",
    "popt41, pcov41 = cf(fn,exp41[:,0],exp41[:,1])\n",
    "popt42, pcov42 = cf(fn,exp42[:,0],exp42[:,1])\n",
    "popt43, pcov43 = cf(fn,exp43[:,0],exp43[:,1])\n",
    "\n",
    "popt51, pcov51 = cf(fn,exp51[:,0],exp51[:,1])\n",
    "popt52, pcov52 = cf(fn,exp52[:,0],exp52[:,1])\n",
    "popt53, pcov53 = cf(fn,exp53[:,0],exp53[:,1])\n",
    "\n",
    "popt61, pcov61 = cf(fn,exp61[:,0],exp61[:,1])\n",
    "popt62, pcov62 = cf(fn,exp62[:,0],exp62[:,1])\n",
    "popt63, pcov63 = cf(fn,exp63[:,0],exp63[:,1])\n",
    "\n",
    "#print('alpha values for Expt. 0 : ', popt01[0],' ',popt02[0],' ',popt03[0],'\\n\\n')\n",
    "#print('alpha values for Expt. 1 : ', popt11[0],' ',popt12[0],' ',popt13[0],'\\n\\n')\n",
    "#print('alpha values for Expt. 2 : ', popt21[0],' ',popt22[0],' ',popt23[0],'\\n\\n')\n",
    "#print('alpha values for Expt. 3 : ', popt31[0],' ',popt32[0],'\\n\\n')\n",
    "#print('alpha values for Expt. 4 : ', popt41[0],' ',popt42[0],' ',popt43[0],'\\n\\n')\n",
    "#print('alpha values for Expt. 5 : ', popt51[0],' ',popt52[0],' ',popt53[0],'\\n\\n')\n",
    "#print('alpha values for Expt. 6 : ', popt61[0],' ',popt62[0],' ',popt63[0],'\\n\\n')\n",
    "\n",
    "I01 = 0.01176/popt01[0]-0.000036\n",
    "I02 = 0.01176/popt02[0]-0.000036\n",
    "I03 = 0.01176/popt03[0]-0.000036\n",
    "\n",
    "I11 = 0.01176/popt11[0]-0.000036\n",
    "I12 = 0.01176/popt12[0]-0.000036\n",
    "I13 = 0.01176/popt13[0]-0.000036\n",
    "\n",
    "I21 = 0.01176/popt21[0]-0.000036\n",
    "I22 = 0.01176/popt22[0]-0.000036\n",
    "I23 = 0.01176/popt23[0]-0.000036\n",
    "\n",
    "I31 = 0.01176/popt31[0]-0.000036\n",
    "I32 = 0.01176/popt32[0]-0.000036\n",
    "\n",
    "I41 = 0.01176/popt41[0]-0.000036\n",
    "I42 = 0.01176/popt42[0]-0.000036\n",
    "I43 = 0.01176/popt43[0]-0.000036\n",
    "\n",
    "I51 = 0.01176/popt51[0]-0.000036\n",
    "I52 = 0.01176/popt52[0]-0.000036\n",
    "I53 = 0.01176/popt53[0]-0.000036\n",
    "\n",
    "I61 = 0.01176/popt61[0]-0.000036\n",
    "I62 = 0.01176/popt62[0]-0.000036\n",
    "I63 = 0.01176/popt63[0]-0.000036\n",
    "\n",
    "print('I values for Expt. 0 : ', I01,' ',I02,' ',I03,'\\n\\n')\n",
    "print('I values for Expt. 1 : ', I11,' ',I12,' ',I13,'\\n\\n')\n",
    "print('I values for Expt. 2 : ', I21,' ',I22,' ',I23,'\\n\\n')\n",
    "print('I values for Expt. 3 : ', I31,' ',I32,'\\n\\n')\n",
    "print('I values for Expt. 4 : ', I41,' ',I42,' ',I43,'\\n\\n')\n",
    "print('I values for Expt. 5 : ', I51,' ',I52,' ',I53,'\\n\\n')\n",
    "print('I values for Expt. 6 : ', I61,' ',I62,' ',I63,'\\n\\n')\n",
    "\n"
   ]
  },
  {
   "cell_type": "code",
   "execution_count": 21,
   "metadata": {},
   "outputs": [
    {
     "data": {
      "image/png": "[encoded data removed]",
      "text/plain": [
       "<Figure size 432x288 with 1 Axes>"
      ]
     },
     "metadata": {
      "needs_background": "light"
     },
     "output_type": "display_data"
    }
   ],
   "source": [
    "plt.plot(exp01[:,0],exp01[:,1],'r-')\n",
    "plt.plot(exp02[:,0],exp02[:,1],'r-')\n",
    "plt.plot(exp03[:,0],exp03[:,1],'r-')\n",
    "plt.plot(exp11[:,0],exp11[:,1],'b-')\n",
    "plt.plot(exp12[:,0],exp12[:,1],'b-')\n",
    "plt.plot(exp13[:,0],exp13[:,1],'b-')\n",
    "plt.plot(exp21[:,0],exp21[:,1],'k-')\n",
    "plt.plot(exp22[:,0],exp22[:,1],'k-')\n",
    "plt.plot(exp23[:,0],exp23[:,1],'k-')\n",
    "plt.plot(exp31[:,0],exp31[:,1],'g-')\n",
    "plt.plot(exp32[:,0],exp32[:,1],'g-')\n",
    "plt.show()\n"
   ]
  },
  {
   "cell_type": "code",
   "execution_count": null,
   "metadata": {},
   "outputs": [],
   "source": []
  },
  {
   "cell_type": "code",
   "execution_count": null,
   "metadata": {},
   "outputs": [],
   "source": []
  },
  {
   "cell_type": "code",
   "execution_count": null,
   "metadata": {},
   "outputs": [],
   "source": []
  },
  {
   "cell_type": "code",
   "execution_count": null,
   "metadata": {},
   "outputs": [],
   "source": []
  },
  {
   "cell_type": "code",
   "execution_count": null,
   "metadata": {},
   "outputs": [],
   "source": []
  }
 ],
 "metadata": {
  "kernelspec": {
   "display_name": "Python 3",
   "language": "python",
   "name": "python3"
  },
  "language_info": {
   "codemirror_mode": {
    "name": "ipython",
    "version": 3
   },
   "file_extension": ".py",
   "mimetype": "text/x-python",
   "name": "python",
   "nbconvert_exporter": "python",
   "pygments_lexer": "ipython3",
   "version": "3.7.4"
  }
 },
 "nbformat": 4,
 "nbformat_minor": 2
}
