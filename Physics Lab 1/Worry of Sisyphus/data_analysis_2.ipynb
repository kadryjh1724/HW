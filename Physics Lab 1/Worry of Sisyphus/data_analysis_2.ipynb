{
 "cells": [
  {
   "cell_type": "markdown",
   "metadata": {},
   "source": [
    "# Data analysis for the Experiment 3\n",
    "\n",
    "## Analysis 2\n",
    "\n",
    "We analyze data 5 to 8 in this analysis.\n",
    "\n",
    "### Importing packages and dataset"
   ]
  },
  {
   "cell_type": "code",
   "execution_count": 1,
   "metadata": {},
   "outputs": [],
   "source": [
    "import numpy as np\n",
    "import pandas as pd\n",
    "import matplotlib.pyplot as plt\n",
    "from pylab import *\n",
    "from scipy.optimize import curve_fit as cf\n",
    "\n",
    "data_5 = pd.read_csv('data_05.csv', sep=',')\n",
    "data_6 = pd.read_csv('data_06.csv', sep=',')\n",
    "data_7 = pd.read_csv('data_07.csv', sep=',')\n",
    "data_8 = pd.read_csv('data_08.csv', sep=',')\n",
    "\n",
    "exp51 = (data_5[[\"t1\",\"x1\",\"y1\"]].dropna(how=\"any\")).values\n",
    "exp52 = (data_5[[\"t2\",\"x2\",\"y2\"]].dropna(how=\"any\")).values\n",
    "\n",
    "exp61 = (data_6[[\"t1\",\"x1\",\"y1\"]].dropna(how=\"any\")).values\n",
    "exp62 = (data_6[[\"t2\",\"x2\",\"y2\"]].dropna(how=\"any\")).values\n",
    "exp63 = (data_6[[\"t3\",\"x3\",\"y3\"]].dropna(how=\"any\")).values\n",
    "exp64 = (data_6[[\"t4\",\"x4\",\"y4\"]].dropna(how=\"any\")).values\n",
    "\n",
    "exp71 = (data_7[[\"t1\",\"x1\",\"y1\"]].dropna(how=\"any\")).values\n",
    "exp72 = (data_7[[\"t2\",\"x2\",\"y2\"]].dropna(how=\"any\")).values\n",
    "\n",
    "exp81 = (data_8[[\"t1\",\"x1\",\"y1\"]].dropna(how=\"any\")).values\n",
    "exp82 = (data_8[[\"t2\",\"x2\",\"y2\"]].dropna(how=\"any\")).values\n",
    "exp83 = (data_8[[\"t3\",\"x3\",\"y3\"]].dropna(how=\"any\")).values\n",
    "exp84 = (data_8[[\"t4\",\"x4\",\"y4\"]].dropna(how=\"any\")).values"
   ]
  },
  {
   "cell_type": "markdown",
   "metadata": {},
   "source": [
    "How does this data look like?"
   ]
  },
  {
   "cell_type": "code",
   "execution_count": 4,
   "metadata": {},
   "outputs": [
    {
     "data": {
      "image/png": "[encoded data removed]",
      "text/plain": [
       "<Figure size 432x288 with 1 Axes>"
      ]
     },
     "metadata": {
      "needs_background": "light"
     },
     "output_type": "display_data"
    }
   ],
   "source": [
    "fig = plt.figure()\n",
    "ax = fig.add_subplot(1,1,1)\n",
    "ax.scatter(exp81[:,1], exp81[:,2], marker='^', color='black', s = 5)\n",
    "plt.xlabel('x(m)')\n",
    "plt.ylabel('y(m)')\n",
    "plt.title('Data for experiment 8-1')\n",
    "plt.show()"
   ]
  },
  {
   "cell_type": "markdown",
   "metadata": {},
   "source": [
    "I only kept the data with circular orbit, manually(hard to write down the code that finds the circle...).\n",
    "\n",
    "Then we start the $\\textit{circular}$ curve fit. First, I've calculated the $R^{2}$ value for the Experiment 8, epoch 1."
   ]
  },
  {
   "cell_type": "code",
   "execution_count": 20,
   "metadata": {},
   "outputs": [
    {
     "name": "stdout",
     "output_type": "stream",
     "text": [
      "0.9950586159467494\n"
     ]
    }
   ],
   "source": [
    "from scipy import optimize\n",
    "\n",
    "x = exp81[:,1]\n",
    "y = exp81[:,2]\n",
    "x_m = np.mean(x)\n",
    "y_m = np.mean(y)\n",
    "\n",
    "def calc_R(xc, yc):\n",
    "    return sqrt((x-xc)**2 + (y-yc)**2)\n",
    "\n",
    "def f(c):\n",
    "    Ri = calc_R(*c)\n",
    "    return Ri - Ri.mean()\n",
    "\n",
    "center_estimate = x_m, y_m\n",
    "center, ier = optimize.leastsq(f, center_estimate)\n",
    "\n",
    "xc, yc = center\n",
    "Ri = calc_R(*center)\n",
    "R = Ri.mean()\n",
    "residue = sum((Ri - R)**2)\n",
    "\n",
    "tot = sum((y - np.mean(y)) ** 2)\n",
    "r_sq = 1 - (residue / tot)\n",
    "print(r_sq)"
   ]
  },
  {
   "cell_type": "markdown",
   "metadata": {},
   "source": [
    "Now calculate the $R^{2}$ for all the other cases."
   ]
  },
  {
   "cell_type": "code",
   "execution_count": 21,
   "metadata": {},
   "outputs": [
    {
     "name": "stdout",
     "output_type": "stream",
     "text": [
      "[[51.          0.99652309]\n",
      " [52.          0.99583092]\n",
      " [61.          0.99383869]\n",
      " [62.          0.99593229]\n",
      " [63.          0.994234  ]\n",
      " [64.          0.9933242 ]\n",
      " [71.          0.99830412]\n",
      " [72.          0.99644378]\n",
      " [81.          0.99505862]\n",
      " [82.          0.9966326 ]\n",
      " [83.          0.99493795]\n",
      " [84.          0.99489962]]\n"
     ]
    }
   ],
   "source": [
    "def Circular_cf(a):\n",
    "    x = a[:,1]\n",
    "    y = a[:,2]\n",
    "    x_m = np.mean(x)\n",
    "    y_m = np.mean(y)\n",
    "    \n",
    "    def calc_R(xc, yc):\n",
    "        return sqrt((x-xc)**2 + (y-yc)**2)\n",
    "\n",
    "    def f(c):\n",
    "        Ri = calc_R(*c)\n",
    "        return Ri - Ri.mean()\n",
    "\n",
    "    center_estimate = x_m, y_m\n",
    "    center, ier = optimize.leastsq(f, center_estimate)\n",
    "\n",
    "    xc, yc = center\n",
    "    Ri = calc_R(*center)\n",
    "    R = Ri.mean()\n",
    "    residue = sum((Ri - R)**2)\n",
    "\n",
    "    tot = sum((y - np.mean(y)) ** 2)\n",
    "    r_sq = 1 - (residue / tot)\n",
    "    return r_sq\n",
    "\n",
    "r_sq = np.zeros(24).reshape(12,2)\n",
    "\n",
    "r_sq[0,0] = 51\n",
    "r_sq[1,0] = 52\n",
    "r_sq[2,0] = 61\n",
    "r_sq[3,0] = 62\n",
    "r_sq[4,0] = 63\n",
    "r_sq[5,0] = 64\n",
    "r_sq[6,0] = 71\n",
    "r_sq[7,0] = 72\n",
    "r_sq[8,0] = 81\n",
    "r_sq[9,0] = 82\n",
    "r_sq[10,0] = 83\n",
    "r_sq[11,0] = 84\n",
    "\n",
    "r_sq[0,1] = Circular_cf(exp51)\n",
    "r_sq[1,1] = Circular_cf(exp52)\n",
    "r_sq[2,1] = Circular_cf(exp61)\n",
    "r_sq[3,1] = Circular_cf(exp62)\n",
    "r_sq[4,1] = Circular_cf(exp63)\n",
    "r_sq[5,1] = Circular_cf(exp64)\n",
    "r_sq[6,1] = Circular_cf(exp71)\n",
    "r_sq[7,1] = Circular_cf(exp72)\n",
    "r_sq[8,1] = Circular_cf(exp81)\n",
    "r_sq[9,1] = Circular_cf(exp82)\n",
    "r_sq[10,1] = Circular_cf(exp83)\n",
    "r_sq[11,1] = Circular_cf(exp84)\n",
    "\n",
    "print(r_sq)"
   ]
  }
 ],
 "metadata": {
  "kernelspec": {
   "display_name": "Python 3",
   "language": "python",
   "name": "python3"
  },
  "language_info": {
   "codemirror_mode": {
    "name": "ipython",
    "version": 3
   },
   "file_extension": ".py",
   "mimetype": "text/x-python",
   "name": "python",
   "nbconvert_exporter": "python",
   "pygments_lexer": "ipython3",
   "version": "3.7.4"
  }
 },
 "nbformat": 4,
 "nbformat_minor": 2
}
