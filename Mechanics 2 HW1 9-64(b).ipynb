{
 "cells": [
  {
   "cell_type": "markdown",
   "metadata": {},
   "source": [
    "# Mechanics 2 HW1\n",
    "\n",
    "## Problem #6: Thornton & Marion 9-64.\n",
    "\n",
    "A new single-stage rocket is developed in the year 2023, having a gas exhaust velocity of 4000 m/s. The total mass of the rocket is $10^{5}$ kg, with 90% of its mass being fuel. The fuel burns quickly in 100 s at a constant rate. For testing purposes, the rocket is launched vertically at rest from Earth's surface.\n",
    "\n",
    "(b) If the rocket has a radius of 20 cm and the air resistance is proportional to the square of the object's speed with $c_{w}=0.2$, determine the maximum height reached. Assume the density of air is constant."
   ]
  },
  {
   "cell_type": "code",
   "execution_count": 22,
   "metadata": {},
   "outputs": [],
   "source": [
    "import numpy as np\n",
    "from scipy.integrate import odeint\n",
    "pi = 3.1415926535\n",
    "\n",
    "#constants\n",
    "u = 4000.0 #exhaustion velocity\n",
    "rho = 1.3 #density of air\n",
    "alpha = 900 #fuel burn rate\n",
    "g = 9.8 #gravitational acceleration\n",
    "cW = 0.2 #resistance\n",
    "#Note that A=0.04pi\n",
    "\n",
    "def f(z, t):\n",
    "    \n",
    "    m = z[0]\n",
    "    y = z[1]\n",
    "    v = z[2]\n",
    "    \n",
    "    dmdt = - alpha\n",
    "    dydt = v\n",
    "    dvdt = (u*alpha/m) - g - cW*(0.04*pi)*rho*v**2/(2*m)\n",
    "    \n",
    "    dzdt = [dmdt, dydt, dvdt]\n",
    "    \n",
    "    return dzdt\n",
    "\n",
    "z0 = [1e5, 0, 0]\n",
    "n = 100000\n",
    "\n",
    "t = np.linspace(0,100,n)\n",
    "m = np.empty_like(t)\n",
    "y = np.empty_like(t)\n",
    "v = np.empty_like(t)\n",
    "\n",
    "m[0] = z0[0]\n",
    "y[0] = z0[1]\n",
    "v[0] = z0[2]"
   ]
  },
  {
   "cell_type": "code",
   "execution_count": 23,
   "metadata": {},
   "outputs": [],
   "source": [
    "for i in range(1,n):\n",
    "    tspan = [t[i-1], t[i]]\n",
    "    z = odeint(f, z0, tspan)\n",
    "    \n",
    "    m[i] = z[1][0]\n",
    "    y[i] = z[1][1]\n",
    "    v[i] = z[1][2]\n",
    "    \n",
    "    z0 = z[1]"
   ]
  },
  {
   "cell_type": "code",
   "execution_count": 24,
   "metadata": {},
   "outputs": [
    {
     "name": "stdout",
     "output_type": "stream",
     "text": [
      "[0.00000000e+00 1.31003612e-05 5.24016702e-05 ... 2.40091314e+05\n",
      " 2.40098757e+05 2.40106200e+05]\n",
      "[0.00000000e+00 2.62004240e-02 5.24011720e-02 ... 7.44250645e+03\n",
      " 7.44276613e+03 7.44302583e+03]\n"
     ]
    }
   ],
   "source": [
    "print(y)\n",
    "print(v)"
   ]
  },
  {
   "cell_type": "markdown",
   "metadata": {},
   "source": [
    "After the burnout, the rocket travels without thrust, only subject to the retarding force and gravitational force."
   ]
  },
  {
   "cell_type": "code",
   "execution_count": 25,
   "metadata": {},
   "outputs": [],
   "source": [
    "m = 1e4\n",
    "\n",
    "def h(z, t):\n",
    "    \n",
    "    y = z[0]\n",
    "    v = z[1]\n",
    "    dydt = v\n",
    "    dvdt = - g - cW*(0.04*pi)*rho*v**2/(2*m)\n",
    "    \n",
    "    dzdt = [dydt, dvdt]\n",
    "    \n",
    "    return dzdt\n",
    "\n",
    "z0_ = [2.40110251e+05, 7.44337911e+03]\n",
    "n = 300000\n",
    "\n",
    "t2 = np.linspace(100,413.134,n)\n",
    "y2 = np.empty_like(t2)\n",
    "v2 = np.empty_like(t2)\n",
    "\n",
    "y2[0] = z0_[0]\n",
    "v2[0] = z0_[1]"
   ]
  },
  {
   "cell_type": "code",
   "execution_count": 26,
   "metadata": {},
   "outputs": [],
   "source": [
    "for i in range(1,n):\n",
    "    tspan2 = [t2[i-1], t2[i]]\n",
    "    z2 = odeint(h, z0_, tspan2)\n",
    "    \n",
    "    y2[i] = z2[1][0]\n",
    "    v2[i] = z2[1][1]\n",
    "    \n",
    "    z0_ = z2[1]"
   ]
  },
  {
   "cell_type": "code",
   "execution_count": 27,
   "metadata": {},
   "outputs": [
    {
     "name": "stdout",
     "output_type": "stream",
     "text": [
      "[240110.251      240118.02016686 240125.78922444 ... 951985.48927912\n",
      " 951985.48928894 951985.48928808]\n",
      "[ 7.44337911e+03  7.44327441e+03  7.44316972e+03 ...  1.45217142e-02\n",
      "  4.29263605e-03 -5.93644205e-03]\n"
     ]
    }
   ],
   "source": [
    "print(y2)\n",
    "print(v2)"
   ]
  },
  {
   "cell_type": "markdown",
   "metadata": {},
   "source": [
    "Therefore the maximum height reached is about 952 km."
   ]
  }
 ],
 "metadata": {
  "kernelspec": {
   "display_name": "Python 3",
   "language": "python",
   "name": "python3"
  },
  "language_info": {
   "codemirror_mode": {
    "name": "ipython",
    "version": 3
   },
   "file_extension": ".py",
   "mimetype": "text/x-python",
   "name": "python",
   "nbconvert_exporter": "python",
   "pygments_lexer": "ipython3",
   "version": "3.7.4"
  }
 },
 "nbformat": 4,
 "nbformat_minor": 2
}
