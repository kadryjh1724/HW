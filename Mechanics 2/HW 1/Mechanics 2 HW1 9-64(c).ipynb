{
 "cells": [
  {
   "cell_type": "markdown",
   "metadata": {},
   "source": [
    "# Mechanics 2 HW1\n",
    "\n",
    "## Problem #6: Thornton & Marion 9-64.\n",
    "\n",
    "A new single-stage rocket is developed in the year 2023, having a gas exhaust velocity of 4000 m/s. The total mass of the rocket is $10^{5}$ kg, with 90% of its mass being fuel. The fuel burns quickly in 100 s at a constant rate. For testing purposes, the rocket is launched vertically at rest from Earth's surface.\n",
    "\n",
    "(c) Now also include the fact that the acceleration of gravity decreases as the object soars above Earth. Find the height reached."
   ]
  },
  {
   "cell_type": "code",
   "execution_count": 53,
   "metadata": {},
   "outputs": [],
   "source": [
    "import numpy as np\n",
    "from scipy.integrate import odeint\n",
    "pi = 3.1415926535\n",
    "\n",
    "#constants\n",
    "u = 4000.0 #exhaustion velocity\n",
    "rho = 1.3 #density of air\n",
    "alpha = 900.0 #fuel burn rate\n",
    "g = 9.8 #gravitational acceleration\n",
    "cW = 0.2 #resistance\n",
    "R_E = 6400000 #radius of earth\n",
    "#Note that A=0.04pi\n",
    "\n",
    "def f(z, t):\n",
    "    \n",
    "    m = z[0]\n",
    "    y = z[1]\n",
    "    v = z[2]\n",
    "    \n",
    "    dmdt = - alpha\n",
    "    dydt = v\n",
    "    dvdt = (u*alpha/m) - g/(1+y/R_E)**2 - cW*(0.04*pi)*rho*v**2/(2*m)\n",
    "    \n",
    "    dzdt = [dmdt, dydt, dvdt]\n",
    "    \n",
    "    return dzdt\n",
    "\n",
    "z0 = [1e5, 0, 0]\n",
    "n = 100000\n",
    "\n",
    "t = np.linspace(0,100,n)\n",
    "m = np.empty_like(t)\n",
    "y = np.empty_like(t)\n",
    "v = np.empty_like(t)\n",
    "\n",
    "m[0] = z0[0]\n",
    "y[0] = z0[1]\n",
    "v[0] = z0[2]"
   ]
  },
  {
   "cell_type": "code",
   "execution_count": 54,
   "metadata": {},
   "outputs": [],
   "source": [
    "for i in range(1,n):\n",
    "    tspan = [t[i-1], t[i]]\n",
    "    z = odeint(f, z0, tspan)\n",
    "    \n",
    "    m[i] = z[1][0]\n",
    "    y[i] = z[1][1]\n",
    "    v[i] = z[1][2]\n",
    "    \n",
    "    z0 = z[1]"
   ]
  },
  {
   "cell_type": "code",
   "execution_count": 55,
   "metadata": {},
   "outputs": [
    {
     "name": "stdout",
     "output_type": "stream",
     "text": [
      "[0.00000000e+00 1.31003612e-05 5.24016702e-05 ... 2.40507956e+05\n",
      " 2.40515415e+05 2.40522874e+05]\n",
      "[0.00000000e+00 2.62004240e-02 5.24011720e-02 ... 7.45877294e+03\n",
      " 7.45903292e+03 7.45929292e+03]\n"
     ]
    }
   ],
   "source": [
    "print(y)\n",
    "print(v)"
   ]
  },
  {
   "cell_type": "markdown",
   "metadata": {},
   "source": [
    "After the burnout, the rocket travels without thrust, only subject to the retarding force and gravitational force."
   ]
  },
  {
   "cell_type": "code",
   "execution_count": 56,
   "metadata": {},
   "outputs": [],
   "source": [
    "m = 1e4\n",
    "\n",
    "def h(z, t):\n",
    "    \n",
    "    y = z[0]\n",
    "    v = z[1]\n",
    "    dydt = v\n",
    "    dvdt = - g/(1+y/R_E)**2 - (4*pi*1e-3)*rho*v**2/m\n",
    "    \n",
    "    dzdt = [dydt, dvdt]\n",
    "    \n",
    "    return dzdt\n",
    "\n",
    "z0_ = [2.40522874e+05, 7.45929292e+03]\n",
    "n = 300000\n",
    "\n",
    "t2 = np.linspace(100,467.903,n)\n",
    "y2 = np.empty_like(t2)\n",
    "v2 = np.empty_like(t2)\n",
    "\n",
    "y2[0] = z0_[0]\n",
    "v2[0] = z0_[1]"
   ]
  },
  {
   "cell_type": "code",
   "execution_count": 57,
   "metadata": {},
   "outputs": [],
   "source": [
    "for i in range(1,n):\n",
    "    tspan2 = [t2[i-1], t2[i]]\n",
    "    z2 = odeint(h, z0_, tspan2)\n",
    "    \n",
    "    y2[i] = z2[1][0]\n",
    "    v2[i] = z2[1][1]\n",
    "    \n",
    "    z0_ = z2[1]"
   ]
  },
  {
   "cell_type": "code",
   "execution_count": 58,
   "metadata": {},
   "outputs": [
    {
     "name": "stdout",
     "output_type": "stream",
     "text": [
      "[ 240522.874       240532.02153425  240541.16891811 ... 1016969.68439303\n",
      " 1016969.68676589 1016969.68912777]\n",
      "[7.45929292e+03 7.45917029e+03 7.45904766e+03 ... 1.93938532e+00\n",
      " 1.93043689e+00 1.92148846e+00]\n"
     ]
    }
   ],
   "source": [
    "print(y2)\n",
    "print(v2)"
   ]
  },
  {
   "cell_type": "markdown",
   "metadata": {},
   "source": [
    "Therefore the maximum height reached is about 1017 km."
   ]
  }
 ],
 "metadata": {
  "kernelspec": {
   "display_name": "Python 3",
   "language": "python",
   "name": "python3"
  },
  "language_info": {
   "codemirror_mode": {
    "name": "ipython",
    "version": 3
   },
   "file_extension": ".py",
   "mimetype": "text/x-python",
   "name": "python",
   "nbconvert_exporter": "python",
   "pygments_lexer": "ipython3",
   "version": "3.7.4"
  }
 },
 "nbformat": 4,
 "nbformat_minor": 2
}
