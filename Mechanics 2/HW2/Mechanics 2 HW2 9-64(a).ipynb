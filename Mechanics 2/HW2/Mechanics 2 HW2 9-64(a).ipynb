{
 "cells": [
  {
   "cell_type": "markdown",
   "metadata": {},
   "source": [
    "# Mechanics 2 HW2\n",
    "\n",
    "## Problem #11: Thornton & Marion 9-64 (slightly augmented)\n",
    "\n",
    "A new single-stage rocket is developed in the year 2023, having a gas exhaust velocity of 4000 m/s. The total mass of the rocket is $10^{5}$ kg, with 90% of its mass being fuel. The fuel burns quickly in 100 s at a constant rate. For testing purposes, the rocket is launched vertically at rest from Earth's surface.\n",
    "\n",
    "(a) Neglect air resistance and assume that the acceleration of gravity is constant. Determine the horizontal deflection of the launched object when it reached the maximum height."
   ]
  },
  {
   "cell_type": "markdown",
   "metadata": {},
   "source": [
    "## Before we start\n",
    "\n",
    "We did the original problem in the previous problem set, so I reused it almostly. Coriolis acceleration is added."
   ]
  },
  {
   "cell_type": "code",
   "execution_count": 14,
   "metadata": {},
   "outputs": [],
   "source": [
    "import numpy as np\n",
    "from scipy.integrate import odeint\n",
    "pi = 3.1415926535\n",
    "\n",
    "#constants\n",
    "u = 4000.0 #exhaustion velocity\n",
    "rho = 1.3 #density of air\n",
    "alpha = 900 #fuel burn rate\n",
    "g = 9.8 #gravitational acceleration\n",
    "omega = 7.29e-5 #angular velocity of Earth's roation\n",
    "\n",
    "def f(r, t):\n",
    "    \n",
    "    m = r[0]\n",
    "    z = r[1]\n",
    "    v_z = r[2]\n",
    "    y = r[3]\n",
    "    v_y = r[4]\n",
    "    \n",
    "    dmdt = - alpha\n",
    "    dzdt = v_z\n",
    "    dv_zdt = (u*alpha/m) - g\n",
    "    dydt = v_y\n",
    "    dv_ydt = -np.sqrt(2)*omega*v_z\n",
    "    \n",
    "    drdt = [dmdt, dzdt, dv_zdt, dydt, dv_ydt]\n",
    "    \n",
    "    return drdt\n",
    "\n",
    "r0 = [1e5, 0, 0, 0, 0]\n",
    "n = 100000\n",
    "\n",
    "t = np.linspace(0,100,n)\n",
    "m = np.empty_like(t)\n",
    "z = np.empty_like(t)\n",
    "v_z = np.empty_like(t)\n",
    "y = np.empty_like(t)\n",
    "v_y = np.empty_like(t)\n",
    "\n",
    "m[0] = r0[0]\n",
    "z[0] = r0[1]\n",
    "v_z[0] = r0[2]\n",
    "y[0] = r0[3]\n",
    "v_y[0] = r0[4]"
   ]
  },
  {
   "cell_type": "code",
   "execution_count": 15,
   "metadata": {},
   "outputs": [],
   "source": [
    "for i in range(1,n):\n",
    "    tspan = [t[i-1], t[i]]\n",
    "    r = odeint(f, r0, tspan)\n",
    "    \n",
    "    m[i] = r[1][0]\n",
    "    z[i] = r[1][1]\n",
    "    v_z[i] = r[1][2]\n",
    "    y[i] = r[1][3]\n",
    "    v_y[i] = r[1][4]\n",
    "    \n",
    "    r0 = r[1]"
   ]
  },
  {
   "cell_type": "code",
   "execution_count": 16,
   "metadata": {},
   "outputs": [
    {
     "name": "stdout",
     "output_type": "stream",
     "text": [
      "[100000.         99999.099991   99998.199982  ...  10001.8000179\n",
      "  10000.9000089   9999.9999999]\n",
      "[0.00000000e+00 1.31003612e-05 5.24016702e-05 ... 2.48653278e+05\n",
      " 2.48661508e+05 2.48669738e+05]\n",
      "[0.00000000e+00 2.62004240e-02 5.24011720e-02 ... 8.22980179e+03\n",
      " 8.23015196e+03 8.23050216e+03]\n",
      "[ 0.00000000e+00 -8.23992918e-13 -5.17084941e-12 ... -6.92062782e+02\n",
      " -6.92088418e+02 -6.92114056e+02]\n",
      "[ 0.00000000e+00 -1.35059705e-09 -5.40241143e-09 ... -2.56352003e+01\n",
      " -2.56360488e+01 -2.56368973e+01]\n"
     ]
    }
   ],
   "source": [
    "print(m)\n",
    "print(z)\n",
    "print(v_z)\n",
    "print(y)\n",
    "print(v_y)"
   ]
  },
  {
   "cell_type": "markdown",
   "metadata": {},
   "source": [
    "After the burnout, the rocket travels without thrust, only subject to the retarding force and gravitational force, and Coriolis force."
   ]
  },
  {
   "cell_type": "code",
   "execution_count": 49,
   "metadata": {},
   "outputs": [],
   "source": [
    "m = 1e4\n",
    "\n",
    "def h(r, t):\n",
    "    \n",
    "    z = r[0]\n",
    "    v_z = r[1]\n",
    "    y = r[2]\n",
    "    v_y = r[3]\n",
    "    \n",
    "    dzdt = v_z\n",
    "    dv_zdt = - g\n",
    "    dydt = v_y\n",
    "    dv_ydt = -np.sqrt(2)*omega*v_z\n",
    "    \n",
    "    drdt = [dzdt, dv_zdt, dydt, dv_ydt]\n",
    "    \n",
    "    return drdt\n",
    "\n",
    "r0_ = [2.48669738e+05, 8.23050216e+03, -6.92114056e+02, -2.56368973e+01]\n",
    "n = 100000\n",
    "\n",
    "t2 = np.linspace(100,939.86,n)\n",
    "z2 = np.empty_like(t2)\n",
    "v_z2 = np.empty_like(t2)\n",
    "y2 = np.empty_like(t2)\n",
    "v_y2 = np.empty_like(t2)\n",
    "\n",
    "z2[0] = r0_[0]\n",
    "v_z2[0] = r0_[1]\n",
    "y2[0] = r0_[2]\n",
    "v_y2[0] = r0_[3]"
   ]
  },
  {
   "cell_type": "code",
   "execution_count": 50,
   "metadata": {},
   "outputs": [],
   "source": [
    "for i in range(1,n):\n",
    "    tspan2 = [t2[i-1], t2[i]]\n",
    "    r2 = odeint(h, r0_, tspan2)\n",
    "    \n",
    "    z2[i] = r2[1][0]\n",
    "    v_z2[i] = r2[1][1]\n",
    "    y2[i] = r2[1][2]\n",
    "    v_y2[i] = r2[1][3]\n",
    "    \n",
    "    r0_ = r2[1]"
   ]
  },
  {
   "cell_type": "code",
   "execution_count": 51,
   "metadata": {},
   "outputs": [
    {
     "name": "stdout",
     "output_type": "stream",
     "text": [
      "[ 248669.738       248738.86294159  248807.9871919  ... 3704818.30127405\n",
      " 3704818.30125407 3704818.30054281]\n",
      "[ 8.23050216e+03  8.23041985e+03  8.23033755e+03 ...  3.87742111e-02\n",
      " -4.35328920e-02 -1.25839995e-01]\n",
      "[   -692.114056      -692.32941074    -692.54482533 ... -221724.07590338\n",
      " -221727.28380233 -221730.49170129]\n",
      "[ -25.6368973   -25.64402382  -25.65115026 ... -381.95257262 -381.95257262\n",
      " -381.95257255]\n"
     ]
    }
   ],
   "source": [
    "print(z2)\n",
    "print(v_z2)\n",
    "print(y2)\n",
    "print(v_y2)"
   ]
  },
  {
   "cell_type": "markdown",
   "metadata": {},
   "source": [
    "Therefore the deflection is about 222 km, towards the west."
   ]
  },
  {
   "cell_type": "code",
   "execution_count": null,
   "metadata": {},
   "outputs": [],
   "source": []
  }
 ],
 "metadata": {
  "kernelspec": {
   "display_name": "Python 3",
   "language": "python",
   "name": "python3"
  },
  "language_info": {
   "codemirror_mode": {
    "name": "ipython",
    "version": 3
   },
   "file_extension": ".py",
   "mimetype": "text/x-python",
   "name": "python",
   "nbconvert_exporter": "python",
   "pygments_lexer": "ipython3",
   "version": "3.7.4"
  }
 },
 "nbformat": 4,
 "nbformat_minor": 2
}
